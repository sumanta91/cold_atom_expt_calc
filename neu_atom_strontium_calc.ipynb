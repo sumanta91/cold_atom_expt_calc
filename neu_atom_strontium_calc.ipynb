{
 "cells": [
  {
   "cell_type": "code",
   "execution_count": 1,
   "id": "f8a0398e-ebe1-47c2-b4f5-f82276dd1afa",
   "metadata": {},
   "outputs": [],
   "source": [
    "import os\n",
    "import matplotlib.pyplot as plt\n",
    "import matplotlib\n",
    "#%matplotlib qt\n",
    "import numpy as np\n",
    "from matplotlib import rcParams\n",
    "from scipy.optimize import curve_fit\n",
    "import matplotlib.colors as colors\n",
    "from IPython.display import display, Math\n",
    "\n",
    "#matplotlib.use('Agg')\n",
    "\n",
    "rcParams[\"axes.labelsize\"] = '19'\n",
    "rcParams[\"axes.titlesize\"] = '15'\n",
    "rcParams[\"axes.linewidth\"] = '0.5'\n",
    "rcParams[\"font.size\"] = '7'\n",
    "rcParams[\"xtick.labelsize\"] = '15'\n",
    "rcParams[\"ytick.labelsize\"] = '15'\n",
    "rcParams[\"xtick.major.width\"] = '0.5'\n",
    "rcParams[\"ytick.major.width\"] = '0.5'\n",
    "rcParams[\"xtick.major.size\"] = '3'\n",
    "rcParams[\"ytick.major.size\"] = '3'\n",
    "rcParams[\"xtick.direction\"] = 'in'\n",
    "rcParams[\"ytick.direction\"] = 'in'\n",
    "rcParams[\"xtick.major.pad\"] = '5'\n",
    "rcParams[\"ytick.major.pad\"] = '5'\n",
    "rcParams[\"axes.labelpad\"] = '10'\n",
    "rcParams[\"axes.grid\"] = 'True'\n",
    "rcParams[\"xtick.top\"] = 'True'\n",
    "rcParams[\"ytick.right\"] = 'True'\n",
    "\n",
    "         \n",
    "rcParams['font.sans-serif'] = 'Arial'         \n",
    "rcParams['mathtext.fontset'] = 'custom'\n",
    "rcParams['mathtext.rm'] = 'serif'\n",
    "\n",
    "rcParams['pdf.fonttype'] = '42'"
   ]
  },
  {
   "cell_type": "code",
   "execution_count": 2,
   "id": "1b092110-15b4-4903-a621-16cc3ce1a9f4",
   "metadata": {},
   "outputs": [],
   "source": [
    "h = 6.62607015e-34 # Planck's constant codata\n",
    "c = 299792458 # speed of light in vacuum\n",
    "ϵ0 = 8.8541878128e-12 # vacuum permittivity in C^2⋅N^−1⋅m^−2 codata\n",
    "μ0 = 4*np.pi*1e-7 # vacuum permeability\n",
    "ħ = h/(2*np.pi) # reduced Planck's const\n",
    "kB = 1.380649e-23 # Boltzman's const codata value codata\n",
    "u = 1.66053906660e-27 # atomic mass unit in kg codata\n",
    "e = 1.602176634e-19 # elementary charge in Coulomb (NIST codata)\n",
    "N_A = 6.02214076e23 # Avogadro's number codata\n",
    "m_e = 9.1093837015e-31 # codata value (https://physics.nist.gov/cgi-bin/cuu/Value?me)\n",
    "m_p = 1.67262192369e-27 # codata value of proton mass"
   ]
  },
  {
   "cell_type": "markdown",
   "id": "eab0d20d-b2af-4851-abf8-d326ea290865",
   "metadata": {
    "tags": []
   },
   "source": [
    "# Transition wavelength of Sr I (neutral Strontium) from NIST data"
   ]
  },
  {
   "cell_type": "markdown",
   "id": "f97198eb-613d-4d52-9f09-418771cf0af6",
   "metadata": {},
   "source": [
    "https://physics.nist.gov/PhysRefData/Handbook/Tables/strontiumtable5.htm"
   ]
  },
  {
   "cell_type": "markdown",
   "id": "79a446d9-c10b-47d1-aeb5-2bb1098bc64a",
   "metadata": {},
   "source": [
    "## 5s$^2$ $^1$S$_0$ $\\rightarrow$ 5s5p $^1$P$_1$; blue MOT transition"
   ]
  },
  {
   "cell_type": "code",
   "execution_count": 3,
   "id": "7ea030eb-be2f-435a-ae19-7b29d388a3a6",
   "metadata": {},
   "outputs": [
    {
     "name": "stdout",
     "output_type": "stream",
     "text": [
      "λ = 460.8617321709417 nm\n",
      "ν = 650.5041253648757 THz\n"
     ]
    }
   ],
   "source": [
    "level = 21698.482 # cm^-1\n",
    "lamb = 1/(level)\n",
    "ν = c/(lamb*10**-2) # in Hz\n",
    "print('λ = '+str(lamb*10**7)+' nm') # nm\n",
    "print('ν = '+str(ν/10**12)+' THz')"
   ]
  },
  {
   "cell_type": "markdown",
   "id": "fe2ed91c-d698-4643-b6ad-b92530326aa9",
   "metadata": {},
   "source": [
    "## 5s$^2$ $^1$S$_0$ $\\rightarrow$ 5s5p $^3$P$_0$; clock transition"
   ]
  },
  {
   "cell_type": "code",
   "execution_count": 4,
   "id": "bb8b8589-ca05-49a9-93a6-8af407e5f250",
   "metadata": {},
   "outputs": [
    {
     "name": "stdout",
     "output_type": "stream",
     "text": [
      "λ = 698.4449820918705 nm\n",
      "ν = 429.228451326416 THz\n"
     ]
    }
   ],
   "source": [
    "level = 14317.520 # cm^-1\n",
    "lamb = 1/(level)\n",
    "ν = c/(lamb*10**-2) # in Hz\n",
    "print('λ = '+str(lamb*10**7)+' nm') # nm\n",
    "print('ν = '+str(ν/10**12)+' THz')"
   ]
  },
  {
   "cell_type": "markdown",
   "id": "2407d1cf-17f7-4a64-9068-1806e5fd8bea",
   "metadata": {},
   "source": [
    "## 5s$^2$ $^1$S$_0$ $\\rightarrow$ 5s5p $^3$P$_1$; red MOT transition"
   ]
  },
  {
   "cell_type": "code",
   "execution_count": 5,
   "id": "7f3b5425-33db-44e3-bf63-77fb73752b84",
   "metadata": {},
   "outputs": [
    {
     "name": "stdout",
     "output_type": "stream",
     "text": [
      "λ = 689.4482903785216 nm\n",
      "ν = 434.82950379847574 THz\n"
     ]
    }
   ],
   "source": [
    "level = 14504.351 # cm^-1\n",
    "lamb = 1/(level)\n",
    "ν = c/(lamb*10**-2) # in Hz\n",
    "print('λ = '+str(lamb*10**7)+' nm') # nm\n",
    "print('ν = '+str(ν/10**12)+' THz')"
   ]
  },
  {
   "cell_type": "markdown",
   "id": "729e021f-e28c-4a0e-8d92-ee3903d73ee8",
   "metadata": {},
   "source": [
    "## 5s$^2$ $^1$S$_0$ $\\rightarrow$ 5s5p $^3$P$_2$"
   ]
  },
  {
   "cell_type": "code",
   "execution_count": 6,
   "id": "24785fdd-272b-4e0e-8ac5-bcd57a514ec9",
   "metadata": {},
   "outputs": [
    {
     "name": "stdout",
     "output_type": "stream",
     "text": [
      "λ = 671.2056726544702 nm\n",
      "ν = 446.64768224378537 THz\n"
     ]
    }
   ],
   "source": [
    "level = 14898.563 # cm^-1\n",
    "lamb = 1/(level)\n",
    "ν = c/(lamb*10**-2) # in Hz\n",
    "print('λ = '+str(lamb*10**7)+' nm') # nm\n",
    "print('ν = '+str(ν/10**12)+' THz')"
   ]
  },
  {
   "cell_type": "markdown",
   "id": "a554a970-81a1-4b24-9ba5-c1f244051b2f",
   "metadata": {},
   "source": [
    "## 5s5p $^3$P$_2$ $\\rightarrow$ 5s6s $^3$S$_1$   repumper 1"
   ]
  },
  {
   "cell_type": "code",
   "execution_count": 7,
   "id": "5f41ef73-6703-4832-954a-846c15fb277d",
   "metadata": {},
   "outputs": [
    {
     "name": "stdout",
     "output_type": "stream",
     "text": [
      "λ = 707.2019751868287 nm\n",
      "ν = 423.9134907970256 THz\n"
     ]
    }
   ],
   "source": [
    "level3p2 = 14898.563 # cm^-1\n",
    "level3s1 = 29038.795 # cm^-1\n",
    "\n",
    "level = level3s1 - level3p2 # cm^-1\n",
    "lamb = 1/(level)\n",
    "ν = c/(lamb*10**-2) # in Hz\n",
    "print('λ = '+str(lamb*10**7)+' nm') # nm\n",
    "print('ν = '+str(ν/10**12)+' THz')"
   ]
  },
  {
   "cell_type": "markdown",
   "id": "0e8799d6-3a38-4a53-820e-33b6ea4d122f",
   "metadata": {},
   "source": [
    "## 5s5p $^3$P$_0$ $\\rightarrow$ 5s6s $^3$S$_1$   repumper 2"
   ]
  },
  {
   "cell_type": "code",
   "execution_count": 8,
   "id": "422db28d-e021-4fbe-81e3-b6fdb3274d38",
   "metadata": {},
   "outputs": [
    {
     "name": "stdout",
     "output_type": "stream",
     "text": [
      "λ = 679.2889882160345 nm\n",
      "ν = 441.3327217143949 THz\n"
     ]
    }
   ],
   "source": [
    "level3p0 = 14317.520 # cm^-1\n",
    "level3s1 = 29038.795 # cm^-1\n",
    "\n",
    "level = level3s1 - level3p0 # cm^-1\n",
    "lamb = 1/(level)\n",
    "ν = c/(lamb*10**-2) # in Hz\n",
    "print('λ = '+str(lamb*10**7)+' nm') # nm\n",
    "print('ν = '+str(ν/10**12)+' THz')"
   ]
  },
  {
   "cell_type": "markdown",
   "id": "af53f475-9143-4198-86e4-870751354327",
   "metadata": {},
   "source": [
    "## 5s5p $^3$P$_0$ $\\rightarrow$ 5s6d $^3$D$_1$   repumper 3    494nm"
   ]
  },
  {
   "cell_type": "code",
   "execution_count": 9,
   "id": "033d0c14-bd28-4f48-827d-8b3bf4b85833",
   "metadata": {},
   "outputs": [
    {
     "name": "stdout",
     "output_type": "stream",
     "text": [
      "ν_394 =  760.8945634517767 THz\n"
     ]
    }
   ],
   "source": [
    "λ_394 = 394*1e-9\n",
    "ν_394 = c/λ_394\n",
    "print('ν_394 = ', ν_394/1e12, 'THz')"
   ]
  },
  {
   "cell_type": "markdown",
   "id": "3e08a918-7366-4f3d-9450-47d5d9d6e212",
   "metadata": {},
   "source": [
    "## Energy to wavelength conversion"
   ]
  },
  {
   "cell_type": "code",
   "execution_count": 24,
   "id": "984c7fdc-eb36-4a04-ba57-ce57deddd203",
   "metadata": {},
   "outputs": [
    {
     "data": {
      "application/vnd.jupyter.widget-view+json": {
       "model_id": "2027439958f3494bb3c07acc5b18d6d6",
       "version_major": 2,
       "version_minor": 0
      },
      "text/plain": [
       "FloatSlider(value=1.0, description='Energy (eV):', max=20.0, min=0.1, style=SliderStyle(description_width='ini…"
      ]
     },
     "metadata": {},
     "output_type": "display_data"
    },
    {
     "data": {
      "application/vnd.jupyter.widget-view+json": {
       "model_id": "e410f9fbabbf4892927e14e17a680ca3",
       "version_major": 2,
       "version_minor": 0
      },
      "text/plain": [
       "Output()"
      ]
     },
     "metadata": {},
     "output_type": "display_data"
    }
   ],
   "source": [
    "import ipywidgets as widgets\n",
    "from IPython.display import display, clear_output\n",
    "\n",
    "# Constants\n",
    "h = 6.62607015e-34  # Planck's constant in J·s\n",
    "c = 299792458       # Speed of light in m/s\n",
    "eV = 1.602e-19      # Conversion factor from eV to Joules\n",
    "\n",
    "def energy_to_wavelength(ev):\n",
    "    # Convert energy in eV to energy in Joules\n",
    "    E = ev * eV\n",
    "    # Calculate wavelength in meters\n",
    "    wavelength_m = (h * c) / E\n",
    "    # Convert wavelength to nanometers\n",
    "    wavelength_nm = wavelength_m * 1e9\n",
    "    return wavelength_nm\n",
    "\n",
    "def update_wavelength(change):\n",
    "    energy = change['new']\n",
    "    wavelength = energy_to_wavelength(energy)\n",
    "    with output:\n",
    "        clear_output(wait=True)\n",
    "        print(f\"Energy: {energy:.2f} eV\")\n",
    "        print(f\"Wavelength: {wavelength:.2f} nm\")\n",
    "\n",
    "# Create interactive widget\n",
    "energy_slider = widgets.FloatSlider(\n",
    "    value=1.0,\n",
    "    min=0.1,\n",
    "    max=20.0,\n",
    "    step=0.1,\n",
    "    description='Energy (eV):',\n",
    "    style={'description_width': 'initial'}\n",
    ")\n",
    "\n",
    "# Output widget to display results\n",
    "output = widgets.Output()\n",
    "\n",
    "# Display the slider and output\n",
    "display(energy_slider, output)\n",
    "\n",
    "# Register the update function with the widget\n",
    "energy_slider.observe(update_wavelength, names='value')\n"
   ]
  },
  {
   "cell_type": "code",
   "execution_count": 23,
   "id": "4d291717-b99d-4550-8c61-339fdcee3477",
   "metadata": {},
   "outputs": [
    {
     "name": "stdout",
     "output_type": "stream",
     "text": [
      "lambda =  149.39502257335926 nm\n"
     ]
    }
   ],
   "source": [
    "h = 6.62607015e-34 # Planck's constant codata\n",
    "c = 299792458 # speed of light in vacuum\n",
    "eV = 1.602*1e-19 # in Joule\n",
    "E = 8.30*eV \n",
    "\n",
    "lamb = (h * c) / E\n",
    "\n",
    "print('lambda = ', lamb*1e9, 'nm')\n"
   ]
  },
  {
   "cell_type": "markdown",
   "id": "3cf3510c-97ff-4a77-a3aa-43fc4e136c47",
   "metadata": {
    "tags": []
   },
   "source": [
    "# Einstein A coefficient or decay rate, lifetime of Sr I transitions"
   ]
  },
  {
   "cell_type": "markdown",
   "id": "796e3029-40d9-4ed9-9ec1-9ea24854d329",
   "metadata": {},
   "source": [
    "Ref. A. Ludlow thesis (page 11)\n",
    "https://jila.colorado.edu/sites/default/files/2020-11/theses_2008_AndrewLudlow.pdf"
   ]
  },
  {
   "cell_type": "code",
   "execution_count": 10,
   "id": "d55624ab-2482-42f2-b9c2-3641b71ec558",
   "metadata": {},
   "outputs": [],
   "source": [
    "wavelength = ['461', '689', '698', '707', '679']\n",
    "A_coeff = [1.9e8, 4.7e4, 7e-3, 4.6e7, 9e6] # /s"
   ]
  },
  {
   "cell_type": "code",
   "execution_count": 11,
   "id": "9ab3d118-51e2-46c1-92ea-0d0d442db7db",
   "metadata": {},
   "outputs": [
    {
     "name": "stdout",
     "output_type": "stream",
     "text": [
      "lifetime =  [5.2631578947368425, 21276.595744680853, 142857142857.14285, 21.73913043478261, 111.11111111111111] ns\n",
      "Γ/2π = [30.23943918746011, 0.00748028232531908, 1.1140846016432672e-09, 7.321127382227186, 1.432394487827058] MHz\n"
     ]
    }
   ],
   "source": [
    "def cal_lifetime(x):\n",
    "    return 1/x\n",
    "\n",
    "lifetime = []\n",
    "i = 0\n",
    "for A in A_coeff:\n",
    "    t = cal_lifetime(A)\n",
    "    lifetime.append(t)\n",
    "    i += 1\n",
    "\n",
    "lifetime = [element * 1e9 for element in lifetime] # in ns\n",
    "\n",
    "def cal_decayrate(x):\n",
    "    return x / (2 * np.pi)\n",
    "\n",
    "decay_rate = []\n",
    "j = 0\n",
    "for A in A_coeff:\n",
    "    decayrate = cal_decayrate(A)\n",
    "    decay_rate.append(decayrate)\n",
    "    j += 1\n",
    "\n",
    "decay_rate = [element * 1e-6 for element in decay_rate] # in MHz\n",
    "print('lifetime = ', lifetime, 'ns')\n",
    "print('Γ/2π =', decay_rate, 'MHz')"
   ]
  },
  {
   "cell_type": "markdown",
   "id": "56d642bc-b64d-4104-b3d0-cbdb362ef6a6",
   "metadata": {
    "tags": []
   },
   "source": [
    "# ECDL grating angle: $2 \\rm{d} sin(\\alpha) = m\\lambda$"
   ]
  },
  {
   "cell_type": "code",
   "execution_count": 8,
   "id": "ab41398d-a5e2-4654-bc49-7592831bf76d",
   "metadata": {},
   "outputs": [
    {
     "name": "stdout",
     "output_type": "stream",
     "text": [
      "α =  24.51 deg\n"
     ]
    }
   ],
   "source": [
    "λ = 461e-9 # 461nm\n",
    "m = 1 # diffraction order\n",
    "d = (1/1800)*1e-3 # 1800 lines/mm\n",
    "α = np.arcsin(m*λ/(2*d)) # \n",
    "print('α = ', round(α*180/(np.pi), 2), 'deg')"
   ]
  },
  {
   "cell_type": "code",
   "execution_count": 9,
   "id": "09451185-7091-4a4b-a76d-877193c5d1bf",
   "metadata": {},
   "outputs": [
    {
     "name": "stdout",
     "output_type": "stream",
     "text": [
      "Trap depth =  1.1604518121550083  X 10^4 K\n"
     ]
    }
   ],
   "source": [
    "U = 1*e # 1 eV [J]\n",
    "T = U/kB\n",
    "print('Trap depth = ', T/1e4, ' X 10^4 K')"
   ]
  },
  {
   "cell_type": "markdown",
   "id": "bbed3ea6-5046-46b7-86fa-0106eef3bf30",
   "metadata": {
    "tags": []
   },
   "source": [
    "# Thermal energy and trapped ion L-D parameter"
   ]
  },
  {
   "cell_type": "code",
   "execution_count": 10,
   "id": "877c25c2-93c0-4283-a8a2-f765c8e2c792",
   "metadata": {},
   "outputs": [
    {
     "name": "stdout",
     "output_type": "stream",
     "text": [
      "E_thermal =  24.99 meV\n"
     ]
    }
   ],
   "source": [
    "T = 290 # room temp in K\n",
    "E_KE = kB * T\n",
    "print('E_thermal = ', round((E_KE/e)*1000, 3), 'meV')"
   ]
  },
  {
   "cell_type": "markdown",
   "id": "584563a1-db18-466d-9058-dd9d6ee3b65e",
   "metadata": {},
   "source": [
    "$\\omega_z = \\sqrt{\\dfrac{2 q U_2}{m}}$"
   ]
  },
  {
   "cell_type": "code",
   "execution_count": 11,
   "id": "c198552f-50a6-422d-854d-b03af1b285dc",
   "metadata": {},
   "outputs": [
    {
     "name": "stdout",
     "output_type": "stream",
     "text": [
      "ω_z = 2π X  2.344995635978429  MHz\n"
     ]
    }
   ],
   "source": [
    "U2 = 45*1e6 # U2 = 45 V mm^-2\n",
    "q = e\n",
    "m = 40*u\n",
    "\n",
    "ω_z = np.sqrt(2*q*U2/m)\n",
    "\n",
    "print('ω_z = 2π X ', ω_z/1e6*(1/(2*np.pi)), ' MHz')"
   ]
  },
  {
   "cell_type": "code",
   "execution_count": 12,
   "id": "83d3a80c-d97c-4315-867a-43bfc02ffe3e",
   "metadata": {},
   "outputs": [
    {
     "name": "stdout",
     "output_type": "stream",
     "text": [
      "x0 = 15.69350396925615 nm\n",
      "η =  4.15744163440738e-06\n"
     ]
    }
   ],
   "source": [
    "ωt = 2*np.pi*0.120e6  #axial trap freq\n",
    "M = 171*u # mass of Yb\n",
    "ν = 12.64*1e9 # HF interval of {171^}Yb\n",
    "λ = c/ν\n",
    "θ = 0\n",
    "\n",
    "x0 = np.sqrt(ħ/(2*M*ωt))\n",
    "def eta(ω,θ):\n",
    "    return (2*np.pi/λ)*np.sqrt(ħ/(2*M*ω))*np.cos(θ*np.pi/180)\n",
    "\n",
    "η = eta(ωt,θ)\n",
    "\n",
    "print('x0 = '+str(x0*1e9)+' nm')\n",
    "print('η = ', η)"
   ]
  },
  {
   "cell_type": "markdown",
   "id": "7df36d59-f0ef-431f-8f82-2f378f46cae7",
   "metadata": {
    "tags": []
   },
   "source": [
    "# Laser cooling of neutral Sr atoms"
   ]
  },
  {
   "cell_type": "markdown",
   "id": "5366433d-e419-4e0c-b609-7ff889a1db76",
   "metadata": {},
   "source": [
    "## Blue MOT Doppler limit temp for neutral Sr atoms"
   ]
  },
  {
   "cell_type": "markdown",
   "id": "6e30054d-765d-4178-9323-a9fafa8c7084",
   "metadata": {},
   "source": [
    "$T_{\\rm D} = \\dfrac{\\hbar \\Gamma}{2 k_{\\rm B}}$"
   ]
  },
  {
   "cell_type": "code",
   "execution_count": 16,
   "id": "8cfef040-126e-4e2f-bc26-07af552daf41",
   "metadata": {},
   "outputs": [
    {
     "name": "stdout",
     "output_type": "stream",
     "text": [
      "TD =  724.686  μK\n"
     ]
    }
   ],
   "source": [
    "# Calculate Doppler limit temperature\n",
    "\n",
    "Γ = 2*np.pi*30.2*1e6 # $1^S_0 to 1^P_1 transition at 461 nm$\n",
    "TD = ħ * Γ / (2 * kB)\n",
    "print('TD = ', round(TD*1e6,3), ' μK')"
   ]
  },
  {
   "cell_type": "markdown",
   "id": "bc813084-8e95-4243-ad2e-f690c6ec0000",
   "metadata": {},
   "source": [
    "## Red MOT Doppler limit temp for neutral Sr atoms"
   ]
  },
  {
   "cell_type": "code",
   "execution_count": 20,
   "id": "2ae2fb18-29e1-4a52-a141-e2ea63faf267",
   "metadata": {},
   "outputs": [
    {
     "name": "stdout",
     "output_type": "stream",
     "text": [
      "179.01176663656005  nK\n"
     ]
    }
   ],
   "source": [
    "# Calculate Doppler limit temperature\n",
    "\n",
    "Γ = 2*np.pi*7.46*1e3 # $1^S_0 to 3^P_1 intercombination line transition at 689 nm$\n",
    "TD = ħ * Γ / (2 * kB)\n",
    "print(TD*1e9, ' nK')"
   ]
  },
  {
   "cell_type": "markdown",
   "id": "e97c50a7-cf95-40f5-9ad0-4a71f33b22cb",
   "metadata": {},
   "source": [
    "## Q factor of clock transition in $^{87}$Sr (1S_0 to 3P_0)"
   ]
  },
  {
   "cell_type": "markdown",
   "id": "7add1840-aeff-4e7f-81fe-b1f478325dfd",
   "metadata": {},
   "source": [
    "ref: https://iopscience.iop.org/article/10.1088/0026-1394/45/5/008"
   ]
  },
  {
   "cell_type": "code",
   "execution_count": 21,
   "id": "189592b5-8290-44a6-bc9c-67a3c03de3cd",
   "metadata": {},
   "outputs": [
    {
     "name": "stdout",
     "output_type": "stream",
     "text": [
      "δν =  0.001061 Hz\n",
      "Q =  4.0453786344107386e+17\n"
     ]
    }
   ],
   "source": [
    "ν0 = 429228004229873.65 # [Hz] ref: https://iopscience.iop.org/article/10.1088/0026-1394/45/5/008\n",
    "t = 150 # [s] lifetime of 3P_0\n",
    "Γ = 1/t # 2π X 0.00106 Hz\n",
    "δν = Γ/(2*np.pi) # [Hz]\n",
    "Q = ν0/δν\n",
    "print('δν = ', round(δν,6), 'Hz')\n",
    "print('Q = ',Q)"
   ]
  },
  {
   "cell_type": "code",
   "execution_count": 22,
   "id": "57d9efc8-f053-4421-a08f-417b9fc19d77",
   "metadata": {},
   "outputs": [
    {
     "name": "stdout",
     "output_type": "stream",
     "text": [
      "1.0915097049885998e-17\n"
     ]
    }
   ],
   "source": [
    "h_diff = 10/100 # [m] 10 cm\n",
    "g = 9.81\n",
    "stability = g * h_diff / (c**2)\n",
    "print(stability)"
   ]
  },
  {
   "cell_type": "markdown",
   "id": "07655aad-775d-482b-a1b4-caf4001219d8",
   "metadata": {
    "tags": []
   },
   "source": [
    "# Calculation of Lande g-factor of neutral Sr atomic energy levels"
   ]
  },
  {
   "cell_type": "code",
   "execution_count": 23,
   "id": "55c51a94-cd8d-4414-bcf4-48439f4ba0b3",
   "metadata": {},
   "outputs": [],
   "source": [
    "def g_J(L,S,J):\n",
    "    return 1 + (J*(J+1) + S*(S+1) - L*(L+1))/(2*J*(J+1)) # For J not equals zero"
   ]
  },
  {
   "cell_type": "markdown",
   "id": "03e8e253-b56b-422e-8cbc-bc55a8d79ef9",
   "metadata": {
    "tags": []
   },
   "source": [
    "## 5s5p $^1$P$_1$"
   ]
  },
  {
   "cell_type": "code",
   "execution_count": 24,
   "id": "bcb91f88-25f0-43b1-9273-70e6db60fd7b",
   "metadata": {},
   "outputs": [
    {
     "name": "stdout",
     "output_type": "stream",
     "text": [
      "g_{1P1} =  1.0\n"
     ]
    }
   ],
   "source": [
    "g_1p1 = g_J(1,0,1)\n",
    "print('g_{1P1} = ', g_1p1)"
   ]
  },
  {
   "cell_type": "markdown",
   "id": "1641dd5f-0947-4a4e-a1d6-0d624dd0008b",
   "metadata": {
    "tags": []
   },
   "source": [
    "## 5s5p $^3$P$_2$"
   ]
  },
  {
   "cell_type": "code",
   "execution_count": 25,
   "id": "464f2889-c806-49a1-a8d8-ca4b00244551",
   "metadata": {},
   "outputs": [
    {
     "name": "stdout",
     "output_type": "stream",
     "text": [
      "g_{3p2} =  1.5\n"
     ]
    }
   ],
   "source": [
    "g_3p2 = g_J(1,1,2)\n",
    "print('g_{3p2} = ', g_3p2)"
   ]
  },
  {
   "cell_type": "markdown",
   "id": "68f9e3eb-2e92-4c6a-9ac4-e54db571b194",
   "metadata": {
    "tags": []
   },
   "source": [
    "## 5s5p $^3$P$_1$"
   ]
  },
  {
   "cell_type": "code",
   "execution_count": 26,
   "id": "032a9938-ae4a-4263-af9f-b3792e4e1bd9",
   "metadata": {},
   "outputs": [
    {
     "name": "stdout",
     "output_type": "stream",
     "text": [
      "g_{3p1} =  1.5\n"
     ]
    }
   ],
   "source": [
    "g_3p1 = g_J(1,1,1)\n",
    "print('g_{3p1} = ', g_3p1)"
   ]
  },
  {
   "cell_type": "markdown",
   "id": "efbbac84-258c-4f2e-b8ba-19b2f27f0afb",
   "metadata": {
    "tags": []
   },
   "source": [
    "## 5s4d $^1$D$_2$"
   ]
  },
  {
   "cell_type": "code",
   "execution_count": 27,
   "id": "ef5de3c6-59a8-429d-8ffd-627d94733a70",
   "metadata": {},
   "outputs": [
    {
     "name": "stdout",
     "output_type": "stream",
     "text": [
      "g_{1d2} =  1.0\n"
     ]
    }
   ],
   "source": [
    "g_1d2 = g_J(2,0,2)\n",
    "print('g_{1d2} = ', g_1d2)"
   ]
  },
  {
   "cell_type": "markdown",
   "id": "9a007324-1045-433c-8b20-d8702b62dbe0",
   "metadata": {
    "tags": []
   },
   "source": [
    "## 5s6s $^3$S$_1$"
   ]
  },
  {
   "cell_type": "code",
   "execution_count": 28,
   "id": "ed4e1745-e8f4-40b6-92f0-6340e8b3bd60",
   "metadata": {},
   "outputs": [
    {
     "name": "stdout",
     "output_type": "stream",
     "text": [
      "g_{3s1} =  2.0\n"
     ]
    }
   ],
   "source": [
    "g_3s1 = g_J(0,1,1)\n",
    "print('g_{3s1} = ', g_3s1)"
   ]
  },
  {
   "cell_type": "code",
   "execution_count": 29,
   "id": "66cc497a-0cd7-4cb3-adc4-204ac2172e4e",
   "metadata": {},
   "outputs": [],
   "source": [
    "## 5s$^2$ $^1$P$_1$"
   ]
  },
  {
   "cell_type": "markdown",
   "id": "e8cdd4b9-3137-4524-8156-a462ccb9839a",
   "metadata": {
    "tags": []
   },
   "source": [
    "# Laser cooling and trapping of atoms"
   ]
  },
  {
   "cell_type": "markdown",
   "id": "83434d70-a394-42ca-9330-1894f0510eb2",
   "metadata": {},
   "source": [
    "## Recoil velocity and max acceleration"
   ]
  },
  {
   "cell_type": "markdown",
   "id": "aac8a8e1-56f6-4ff8-910e-181b2de6282d",
   "metadata": {},
   "source": [
    "Taking data of $^{88}$Sr"
   ]
  },
  {
   "cell_type": "code",
   "execution_count": 30,
   "id": "cb353f37-b423-4662-8c7d-79f5c0d98fb6",
   "metadata": {},
   "outputs": [
    {
     "name": "stdout",
     "output_type": "stream",
     "text": [
      "v_recoil =  9.839 mm/s\n",
      "a_max =  9.428 X 10^5 m/s^2\n",
      "T_recoil =  1.025 μK\n"
     ]
    }
   ],
   "source": [
    "M = 88*u\n",
    "λ = 460.861*1e-9 # 461 nm \n",
    "k = 2*np.pi/λ\n",
    "Γ = 2*np.pi*30.5*1e6\n",
    "v_r = ħ * k / M\n",
    "a_max = ħ * k * Γ / (2 * M) \n",
    "T_r = M * v_r**2 / kB \n",
    "print('v_recoil = ', round(v_r*1000, 3), 'mm/s')\n",
    "print('a_max = ', round(a_max/1e5, 3), 'X 10^5 m/s^2')\n",
    "print('T_recoil = ', round(T_r*1e6, 3), 'μK')"
   ]
  },
  {
   "cell_type": "markdown",
   "id": "d9c8ee5d-821b-4561-9724-55e2f2904ee2",
   "metadata": {},
   "source": [
    "## Stopping distance"
   ]
  },
  {
   "cell_type": "markdown",
   "id": "d98d4427-1fa8-45a2-a90d-b8d6d75c75c7",
   "metadata": {},
   "source": [
    "## Calculate most probable velocity (v_m), average velocity (v_avg), and rms vel (v_rms) for molecular/atomic beam"
   ]
  },
  {
   "cell_type": "code",
   "execution_count": 33,
   "id": "a6b4ceca-0532-4274-b0f6-bdffc214568a",
   "metadata": {},
   "outputs": [
    {
     "name": "stdout",
     "output_type": "stream",
     "text": [
      "v_m =  482.99 m/s\n",
      "v_avg =  524.24 m/s\n",
      "v_rms =  557.71 m/s\n"
     ]
    }
   ],
   "source": [
    "M = 88*u\n",
    "T = 823 # oven temp in Kelvin\n",
    "α = np.sqrt(2*kB*T/M) # most prob speed in a vol of gas\n",
    "v_m = np.sqrt(3/2)*α # most prob speed in a molecular beam\n",
    "v_avg = (3/4)*np.sqrt(np.pi)*α # average speed in a molecular beam\n",
    "v_rms = np.sqrt(2)*α # rms speed in a molecular beam\n",
    "\n",
    "print('v_m = ', round(v_m,2), 'm/s')\n",
    "print('v_avg = ', round(v_avg,2), 'm/s')\n",
    "print('v_rms = ', round(v_rms,2), 'm/s')"
   ]
  },
  {
   "cell_type": "markdown",
   "id": "95203a97-325c-4800-9129-8a8e79925cf2",
   "metadata": {},
   "source": [
    "Calculate stopping distance "
   ]
  },
  {
   "cell_type": "code",
   "execution_count": 34,
   "id": "753777c2-c5ae-445b-92a3-a5df33993cb0",
   "metadata": {},
   "outputs": [
    {
     "name": "stdout",
     "output_type": "stream",
     "text": [
      "L_stop =  24.74 cm\n"
     ]
    }
   ],
   "source": [
    "v0 = v_m\n",
    "L0 = v0**2/a_max\n",
    "print('L_stop = ', round(L0*100,2), 'cm')"
   ]
  },
  {
   "cell_type": "code",
   "execution_count": 35,
   "id": "34e84c0c-e6dd-488b-9157-2a991b553ca8",
   "metadata": {},
   "outputs": [
    {
     "name": "stdout",
     "output_type": "stream",
     "text": [
      "L_stop =  24.74 cm\n",
      "t_lifetime =  5.22 ns\n"
     ]
    }
   ],
   "source": [
    "t = 1/Γ\n",
    "L0 = 2*v0**2*t/v_r\n",
    "print('L_stop = ', round(L0*100,2), 'cm')\n",
    "print('t_lifetime = ', round(t*1e9,2), 'ns')"
   ]
  },
  {
   "cell_type": "markdown",
   "id": "4a4098d4-cd81-498b-90c1-b0bfd63391e0",
   "metadata": {},
   "source": [
    "## Capture velocity"
   ]
  },
  {
   "cell_type": "markdown",
   "id": "1a5fac26-35ee-48a0-a57b-f1945a3804b0",
   "metadata": {},
   "source": [
    "An atom is considered to be out of resonance if the Doppler shift exceeds the linewidth of the transition $\\dfrac{2\\pi v}{\\lambda} \\geq \\Gamma$. For Sr, the natural linewidth is 2$\\pi \\times$30.5 MHz and $\\lambda = 460.861$ nm. This implies that the atom goes out of resonance when its velocity exceeds 14 m/s. $v_{\\rm cap} = \\dfrac{\\Gamma \\lambda}{2\\pi}$"
   ]
  },
  {
   "cell_type": "markdown",
   "id": "f0b05d65-8941-41d1-8b89-ab2a52adc581",
   "metadata": {},
   "source": [
    "## For cooling transition in Sr at 461 nm"
   ]
  },
  {
   "cell_type": "code",
   "execution_count": 69,
   "id": "f8f2d570-a9c8-4d92-be5f-1913893417bc",
   "metadata": {},
   "outputs": [
    {
     "name": "stdout",
     "output_type": "stream",
     "text": [
      "v_capture =  14.06 m/s\n"
     ]
    }
   ],
   "source": [
    "λ = 460.8617321709417e-9\n",
    "Γ = 2*np.pi*30.5*1e6\n",
    "v = Γ*λ / (2*np.pi)\n",
    "\n",
    "print('v_capture = ', round(v,2), 'm/s')"
   ]
  },
  {
   "cell_type": "markdown",
   "id": "05bc5c4c-d5b1-47b8-987e-67bb1d9546dc",
   "metadata": {},
   "source": [
    "## For cooling transition in Sr at 689 nm"
   ]
  },
  {
   "cell_type": "code",
   "execution_count": 37,
   "id": "969099e8-03a2-4fe1-8727-5d3019b480f5",
   "metadata": {},
   "outputs": [
    {
     "name": "stdout",
     "output_type": "stream",
     "text": [
      "v_capture =  5.24 mm/s\n"
     ]
    }
   ],
   "source": [
    "λ = 689.4482903785216e-9\n",
    "Γ = 2*np.pi*7.6*1e3\n",
    "v = Γ*λ / (2*np.pi) * 1000 # mm/s\n",
    "\n",
    "print('v_capture = ', round(v,2), 'mm/s')"
   ]
  },
  {
   "cell_type": "markdown",
   "id": "72fc1cb8-e6df-40ab-98a4-02cb9d457ece",
   "metadata": {},
   "source": [
    "## First stage cooling of Sr"
   ]
  },
  {
   "cell_type": "code",
   "execution_count": 34,
   "id": "ed4a2cd8-142a-4d65-83ab-1cedf01ed257",
   "metadata": {},
   "outputs": [
    {
     "name": "stdout",
     "output_type": "stream",
     "text": [
      "v_m =  476.19 m/s\n",
      "v_recoil =  9.839 mm/s\n",
      "ω_recoil = 2𝜋 X  10.675 kHz\n",
      "a_max =  9.428 X 10^5 m/s^2\n",
      "T_recoil =  1.025 μK\n",
      "T_D =  731.885  μK\n",
      "v_D =  262.964 mm/s\n",
      "I_sat =  40.726  mW/cm^2\n",
      "Γ/ω_recoil =  2.857 X 10^3\n"
     ]
    }
   ],
   "source": [
    "M = 88*u\n",
    "t = 4.84*1-9\n",
    "λ = 460.861*1e-9 # 461 nm \n",
    "k = 2*np.pi/λ\n",
    "Γ = 2*np.pi*30.5*1e6 # decay rate of 1P1 state\n",
    "T = 800 # oven temp in Kelvin\n",
    "α = np.sqrt(2*kB*T/M) # most prob speed in a vol of gas\n",
    "v_m = np.sqrt(3/2)*α # most prob speed in a molecular beam \n",
    "v_r = ħ * k / M # recoil vel\n",
    "ω_r = ħ * k**2 / (2*M) # recoil freq\n",
    "a_max = ħ * k * Γ / (2 * M) # max acceleration\n",
    "#T_r = M * v_r**2 / kB  # Recoil temp, alternate form ħ^2*k^2/(M*kB)\n",
    "T_r = ħ**2 * k**2 / (M * kB)\n",
    "TD = ħ * Γ / (2 * kB)  # Doppler limit temp\n",
    "Is = np.pi*h*c*Γ/(3*λ**3) # Saturation intensity\n",
    "vD = np.sqrt(kB*TD/M) # velocity corresponding to Doppler temp\n",
    "Is1 = np.pi*h*c/(3*λ**3*t)\n",
    "\n",
    "print('v_m = ', round(v_m,2), 'm/s')\n",
    "print('v_recoil = ', round(v_r*1000, 3), 'mm/s')\n",
    "print('ω_recoil = 2𝜋 X ', round(ω_r/1e4/(2*np.pi)*10, 3), 'kHz')\n",
    "print('a_max = ', round(a_max/1e5, 3), 'X 10^5 m/s^2')\n",
    "print('T_recoil = ', round(T_r*1e6, 3), 'μK')\n",
    "print('T_D = ', round(TD*1e6, 3), ' μK')\n",
    "print('v_D = ', round(vD*1000, 3), 'mm/s')\n",
    "print('I_sat = ', round(Is*0.1, 3), ' mW/cm^2') #unit: mW/cm^2 \n",
    "print('Γ/ω_recoil = ', round(Γ/ω_r/1e3,3), 'X 10^3')"
   ]
  },
  {
   "cell_type": "markdown",
   "id": "c6aa7ecd-b7c0-46b5-acd2-003304a6ff3b",
   "metadata": {},
   "source": [
    "## 5s5p $^3$P$_2$ $\\rightarrow$ 5s6s $^3$S$_1$   repumper 1"
   ]
  },
  {
   "cell_type": "code",
   "execution_count": 19,
   "id": "6a8ca18b-5290-467d-8796-ab2b612cc6ea",
   "metadata": {},
   "outputs": [
    {
     "name": "stdout",
     "output_type": "stream",
     "text": [
      "I_sat =  2.7054081070011944  mW/cm^2\n"
     ]
    }
   ],
   "source": [
    "λ = 707.2019751868287*1e-9\n",
    "Γ = 4.6*1e7 # Ludlow thesis\n",
    "\n",
    "Is = np.pi*h*c*Γ/(3*λ**3) # Saturation intensity\n",
    "print('I_sat = ', Is*0.1, ' mW/cm^2') #unit: mW/cm^2 "
   ]
  },
  {
   "cell_type": "markdown",
   "id": "26637c0e-5eee-4d92-9bfb-756c60f49a65",
   "metadata": {},
   "source": [
    "## 5s5p $^3$P$_0$ $\\rightarrow$ 5s6s $^3$S$_1$   repumper 2"
   ]
  },
  {
   "cell_type": "code",
   "execution_count": 18,
   "id": "2341b6f0",
   "metadata": {},
   "outputs": [
    {
     "name": "stdout",
     "output_type": "stream",
     "text": [
      "I_sat =  0.5972884772894498  mW/cm^2\n"
     ]
    }
   ],
   "source": [
    "λ = 679.2889882160345*1e-9\n",
    "Γ = 9*1e6 # Ludlow thesis\n",
    "\n",
    "Is = np.pi*h*c*Γ/(3*λ**3) # Saturation intensity\n",
    "print('I_sat = ', Is*0.1, ' mW/cm^2') #unit: mW/cm^2 "
   ]
  },
  {
   "cell_type": "markdown",
   "id": "9329cf7a-9a56-4659-a207-e63fcf656c99",
   "metadata": {},
   "source": [
    "## Second stage cooling of Sr"
   ]
  },
  {
   "cell_type": "code",
   "execution_count": 40,
   "id": "ec9c7227-a17e-4884-aeae-7c0819c4a304",
   "metadata": {},
   "outputs": [
    {
     "name": "stdout",
     "output_type": "stream",
     "text": [
      "v_recoil =  6.577 mm/s\n",
      "ω_recoil = 2𝜋 X  4.77 kHz\n",
      "a_max =  154.965  m/s^2\n",
      "T_recoil =  457.819 nK\n",
      "T_D =  179.972  nK\n",
      "I_sat =  2.991  μW/cm^2\n",
      "Γ/ω_recoil =  1.572\n"
     ]
    }
   ],
   "source": [
    "M = 88*u\n",
    "λ = 689.448*1e-9 # 461 nm \n",
    "k = 2*np.pi/λ\n",
    "Γ = 2*np.pi*7.5*1e3\n",
    "v_r = ħ * k / M\n",
    "ω_r = ħ * k**2 / (2*M)\n",
    "a_max = ħ * k * Γ / (2 * M) \n",
    "T_r = M * v_r**2 / kB \n",
    "TD = ħ * Γ / (2 * kB)\n",
    "Is = np.pi*h*c*Γ/(3*λ**3)\n",
    "\n",
    "print('v_recoil = ', round(v_r*1000, 3), 'mm/s')\n",
    "print('ω_recoil = 2𝜋 X ', round(ω_r/1e4/(2*np.pi)*10, 3),'kHz')\n",
    "print('a_max = ', round(a_max, 3), ' m/s^2')\n",
    "print('T_recoil = ', round(T_r*1e9, 3), 'nK')\n",
    "print('T_D = ', round(TD*1e9, 3), ' nK')\n",
    "print('I_sat = ', round(Is*100, 3), ' μW/cm^2')\n",
    "print('Γ/ω_recoil = ', round(Γ/ω_r,3))"
   ]
  },
  {
   "cell_type": "code",
   "execution_count": 2,
   "id": "b483d604-a273-4ac9-8bda-551fe0037bc9",
   "metadata": {},
   "outputs": [
    {
     "name": "stdout",
     "output_type": "stream",
     "text": [
      "+----------------------+---------------+\n",
      "|      Transition      |     I_sat     |\n",
      "+----------------------+---------------+\n",
      "| 5s² ¹S₀ to 5s5p ¹P₁  | 40.726 mW/cm² |\n",
      "| 5s5p ³P₂ to 5s6s ³S₁ |  2.70 mW/cm²  |\n",
      "| 5s5p ³P₀ to 5s6s ³S₁ |  0.60 mW/cm²  |\n",
      "| 5s² ¹S₀ to 5s5p ³P1  |   3 μW/cm²    |\n",
      "+----------------------+---------------+\n"
     ]
    }
   ],
   "source": [
    "from tabulate import tabulate\n",
    "\n",
    "# Define the data\n",
    "data = [\n",
    "    [\"5s² ¹S₀ to 5s5p ¹P₁\", \"40.726 mW/cm²\"],\n",
    "    [\"5s5p ³P₂ to 5s6s ³S₁\", \"2.70 mW/cm²\"],\n",
    "    [\"5s5p ³P₀ to 5s6s ³S₁\", \"0.60 mW/cm²\"],\n",
    "    [\"5s² ¹S₀ to 5s5p ³P1\", \"3 μW/cm²\"]\n",
    "]\n",
    "\n",
    "# Define column headers\n",
    "headers = [\"Transition\", \"I_sat\"]\n",
    "\n",
    "# Generate the table\n",
    "table = tabulate(data, headers, tablefmt=\"pretty\")\n",
    "\n",
    "# Print the table\n",
    "print(table)\n"
   ]
  },
  {
   "cell_type": "markdown",
   "id": "56dce2d0-9dba-4ba6-a07a-52505581d7c2",
   "metadata": {},
   "source": [
    "## Sr vapour pressure"
   ]
  },
  {
   "cell_type": "markdown",
   "id": "45b49c54-7ce5-4dea-bfe0-19b667c2fed8",
   "metadata": {},
   "source": [
    "Sr has a melting point of 770C (https://ultracold.sr/publications/thesis_nejc_jansa.pdf)"
   ]
  },
  {
   "cell_type": "code",
   "execution_count": 67,
   "id": "b5c9a041-beca-4c35-b57b-200be566a58b",
   "metadata": {},
   "outputs": [
    {
     "data": {
      "image/png": "[encoded data removed]",
      "text/plain": [
       "<Figure size 720x480 with 1 Axes>"
      ]
     },
     "metadata": {},
     "output_type": "display_data"
    }
   ],
   "source": [
    "# from matplotlib.ticker import LogLocator\n",
    "\n",
    "# Generate temperature values in degrees Celsius\n",
    "t = np.linspace(200, 1400, 25)  # in degrees Celsius\n",
    "\n",
    "# Convert to Kelvin\n",
    "T = np.array([element + 273 for element in t])\n",
    "\n",
    "# Calculate pressure\n",
    "p = 10**(10.255 - 8324 / T) # p in Pa and T in Kelvin\n",
    "\n",
    "P = np.array([element * 0.01 for element in p]) # in mbar\n",
    "\n",
    "# Plotting\n",
    "fig, ax = plt.subplots(1, 1, figsize=(6, 4), dpi=120)\n",
    "ax.plot(t, P, 'o-', label='pressure')\n",
    "\n",
    "# Set axis labels\n",
    "ax.set_xlabel(r'Temperature ($\\degree$C)')\n",
    "ax.set_ylabel('Pressure (mbar)')\n",
    "\n",
    "# Set y-axis to logarithmic scale\n",
    "ax.set_yscale('log')\n",
    "ax.set_ylim(1e-9, 1e4)\n",
    "\n",
    "# Set log scale ticks\n",
    "#ax.yaxis.set_major_locator(LogLocator(base=10.0, subs='auto', numticks=10))\n",
    "\n",
    "ax.set_title('Sr vapor pressure')\n",
    "\n",
    "# Add legend\n",
    "ax.legend()\n",
    "\n",
    "# Show plot\n",
    "plt.show()\n"
   ]
  },
  {
   "cell_type": "markdown",
   "id": "68317a7b-3320-4e5e-a586-24d402658c06",
   "metadata": {},
   "source": [
    "## Velocity distribution of atomics beam from an effusive oven"
   ]
  },
  {
   "cell_type": "markdown",
   "id": "7b77b7f9-f462-4e37-a158-881cca82ba22",
   "metadata": {},
   "source": [
    "The velocity distribution of the atomic beam from an effusive oven is given by the modified Maxwell-Boltzmann distribution \n",
    "$f(v) = 2\\left(\\dfrac{m}{2 k_B T}\\right)^2 v^3 \\exp\\left({-\\dfrac{mv^2}{2 K_B T}}\\right)$\n",
    "\n",
    "For 3D gas, MB velocity distribution is \n",
    "$f(v) = 4 \\pi \\left(\\dfrac{m}{2 \\pi k_B T}\\right)^{3/2} v^2 \\exp\\left({-\\dfrac{mv^2}{2 K_B T}}\\right)$\n"
   ]
  },
  {
   "cell_type": "code",
   "execution_count": 68,
   "id": "346aaa46-9914-4c2b-9b0d-fca85cb93d52",
   "metadata": {},
   "outputs": [
    {
     "data": {
      "text/plain": [
       "Text(0, 0.5, 'Probability density')"
      ]
     },
     "execution_count": 68,
     "metadata": {},
     "output_type": "execute_result"
    },
    {
     "data": {
      "image/png": "[encoded data removed]",
      "text/plain": [
       "<Figure size 720x480 with 1 Axes>"
      ]
     },
     "metadata": {},
     "output_type": "display_data"
    }
   ],
   "source": [
    "m = 88*u\n",
    "T = 500+273 # in Kelvin\n",
    "\n",
    "v = np.linspace(0,1200,1000)\n",
    "f1 = 0.5 * (m/(kB*T))**2 * v**3 * np.exp(- m * v**2 / (2*kB*T)) # Modified M-B distribution for atomic beam\n",
    "f2 = 4 * np.pi * (m/(2*np.pi*kB*T))**1.5 * v**2 * np.exp(- m * v**2 / (2*kB*T))\n",
    "\n",
    "fig, ax = plt.subplots(1, 1, figsize=(6, 4), dpi=120)\n",
    "ax.plot(v, f1, '-', label='MB - atomic beam')\n",
    "ax.plot(v, f2, 'r-', label='MB - 3D gas')\n",
    "ax.legend()\n",
    "\n",
    "ax.set_title(r' Maxwell-Boltzmann distribution, T = 500$\\degree$C')\n",
    "ax.set_xlabel(r'Velocity (m$\\rm s^{-1}$)')\n",
    "ax.set_ylabel('Probability density')"
   ]
  },
  {
   "cell_type": "markdown",
   "id": "c1460fef-8104-4cf4-8261-caf6cbaff756",
   "metadata": {},
   "source": [
    "## Velocities in a thermal atomic/molecular beam"
   ]
  },
  {
   "cell_type": "markdown",
   "id": "a8ab75d2-f6e6-48fc-95f6-2d022c5e7279",
   "metadata": {},
   "source": [
    "Average velocity:$v_{ave} = \\sqrt{\\left(\\dfrac{9\\pi k_B T}{8m}\\right)}$; \n",
    "Most probable velocity:$v_{mp} = \\sqrt{\\left(\\dfrac{3 k_B T}{m}\\right)}$; \n",
    "RMS velocity:$v_{rms} = \\sqrt{\\left(\\dfrac{4 k_B T}{m}\\right)}$"
   ]
  },
  {
   "cell_type": "code",
   "execution_count": 56,
   "id": "7402aac1-d5e3-4036-9a2b-19c206a57fc6",
   "metadata": {},
   "outputs": [
    {
     "name": "stdout",
     "output_type": "stream",
     "text": [
      "v_mp =  468.09 m/s\n",
      "v_avg =  508.06 m/s\n",
      "v_rms =  540.5 m/s\n"
     ]
    }
   ],
   "source": [
    "M = 88*u\n",
    "t = 500 # in deg C\n",
    "T = 500+273 # oven temp in Kelvin\n",
    "α = np.sqrt(kB*T/M)\n",
    "v_mp = np.sqrt(3)*α # most prob speed in a molecular beam\n",
    "v_avg = np.sqrt(9*np.pi/8)*α # average speed in a molecular beam\n",
    "v_rms = np.sqrt(4)*α # rms speed in a molecular beam\n",
    "\n",
    "print('v_mp = ', round(v_mp,2), 'm/s')\n",
    "print('v_avg = ', round(v_avg,2), 'm/s')\n",
    "print('v_rms = ', round(v_rms,2), 'm/s')"
   ]
  },
  {
   "cell_type": "markdown",
   "id": "6fcb9716-4b43-41df-8b1f-176f118224b3",
   "metadata": {},
   "source": [
    "## Velocities in a thermal gas (3D)"
   ]
  },
  {
   "cell_type": "markdown",
   "id": "8f6a6d6c-6294-40e0-a9ed-905d41f8b98d",
   "metadata": {},
   "source": [
    "Average velocity:$v_{ave} = \\sqrt{\\left(\\dfrac{8 k_B T}{\\pi m}\\right)}$; \n",
    "Most probable velocity:$v_{mp} = \\sqrt{\\left(\\dfrac{2 k_B T}{m}\\right)}$; \n",
    "RMS velocity:$v_{rms} = \\sqrt{\\left(\\dfrac{3 k_B T}{m}\\right)}$"
   ]
  },
  {
   "cell_type": "code",
   "execution_count": 59,
   "id": "209f48a4-44e3-4dcf-a127-c0bf19069ae7",
   "metadata": {},
   "outputs": [
    {
     "name": "stdout",
     "output_type": "stream",
     "text": [
      "v_mp =  382.19 m/s\n",
      "v_avg =  431.26 m/s\n",
      "v_rms =  468.09 m/s\n"
     ]
    }
   ],
   "source": [
    "M = 88*u\n",
    "t = 500 # in deg C\n",
    "T = 500+273 # oven temp in Kelvin\n",
    "α = np.sqrt(kB*T/M)\n",
    "v_mp = np.sqrt(2)*α # most prob speed in a molecular beam\n",
    "v_avg = np.sqrt(8/np.pi)*α # average speed in a molecular beam\n",
    "v_rms = np.sqrt(3)*α # rms speed in a molecular beam\n",
    "\n",
    "print('v_mp = ', round(v_mp,2), 'm/s')\n",
    "print('v_avg = ', round(v_avg,2), 'm/s')\n",
    "print('v_rms = ', round(v_rms,2), 'm/s')"
   ]
  },
  {
   "cell_type": "markdown",
   "id": "30851760-d6ce-4f13-bc45-b4bea7f43068",
   "metadata": {},
   "source": [
    "## Doppler shift due to atomic beam velocity"
   ]
  },
  {
   "cell_type": "code",
   "execution_count": 64,
   "id": "a113a945-3c2f-4ad6-b0b4-96b24e93b347",
   "metadata": {},
   "outputs": [
    {
     "name": "stdout",
     "output_type": "stream",
     "text": [
      "Doppler shift =  1.015 GHz\n"
     ]
    }
   ],
   "source": [
    "v_mp = 468 #most prob speed m/s\n",
    "λ = 460.861 * 1e-9 \n",
    "\n",
    "ΔD = v_mp / λ\n",
    "\n",
    "print('Doppler shift = ', round(ΔD/1e9,3), 'GHz')\n"
   ]
  },
  {
   "cell_type": "markdown",
   "id": "66814208-322d-4f5c-a857-d68795ab184b",
   "metadata": {
    "tags": []
   },
   "source": [
    "## Optical Molasses forces"
   ]
  },
  {
   "cell_type": "markdown",
   "id": "22633b77-7f45-41f8-81f8-7b5594a151c7",
   "metadata": {},
   "source": [
    "## The force as a function of the velocity in the optical molasses technique (solid lines)"
   ]
  },
  {
   "cell_type": "code",
   "execution_count": 40,
   "id": "046b6196-c983-4a43-ace5-4d9a01d0a6e5",
   "metadata": {},
   "outputs": [
    {
     "data": {
      "text/plain": [
       "<matplotlib.legend.Legend at 0x27ac89bc490>"
      ]
     },
     "execution_count": 40,
     "metadata": {},
     "output_type": "execute_result"
    },
    {
     "data": {
      "image/png": "[encoded data removed]",
      "text/plain": [
       "<Figure size 720x480 with 1 Axes>"
      ]
     },
     "metadata": {},
     "output_type": "display_data"
    }
   ],
   "source": [
    "v = np.linspace(-35, 35, 1000)\n",
    "λ = 460.861e-9  # 461 nm\n",
    "k = 2 * np.pi / λ\n",
    "Γ = 2 * np.pi * 30.5e6\n",
    "s0 = 0.1\n",
    "Δ = -Γ/2  # laser detuning (red)\n",
    "hbar = ħ\n",
    "\n",
    "F_right = 0.5 * hbar * k * Γ * s0 * 1 / (1 + s0 + 4 * ((Δ - k * v) ** 2 / Γ ** 2))\n",
    "F_left = -0.5 * hbar * k * Γ * s0 * 1 / (1 + s0 + 4 * ((Δ + k * v) ** 2 / Γ ** 2))\n",
    "F = F_right + F_left\n",
    "\n",
    "fig, ax = plt.subplots(1,1, figsize=(6,4), dpi = 120)\n",
    "ax.plot(v, F_right, 'b:', label='F_right')\n",
    "ax.plot(v, F_left, 'g--', label='F_left')\n",
    "ax.plot(v, F, 'r-', label='F_resultant')\n",
    "\n",
    "ax.set_xlabel('Velocity (v)')\n",
    "ax.set_ylabel(r'Scattering force (F$_{\\rm scatt}$)')\n",
    "ax.set_title(r'$\\Delta = -\\Gamma/2$')\n",
    "ax.legend()\n",
    "\n",
    "\n",
    "\n",
    "# plt.show()"
   ]
  },
  {
   "cell_type": "code",
   "execution_count": 41,
   "id": "daa9214c-d93e-4f53-8fcb-1a2d3b07032a",
   "metadata": {},
   "outputs": [
    {
     "data": {
      "text/plain": [
       "<matplotlib.legend.Legend at 0x27ac93d0110>"
      ]
     },
     "execution_count": 41,
     "metadata": {},
     "output_type": "execute_result"
    },
    {
     "data": {
      "image/png": "[encoded data removed]",
      "text/plain": [
       "<Figure size 720x480 with 1 Axes>"
      ]
     },
     "metadata": {},
     "output_type": "display_data"
    }
   ],
   "source": [
    "v = np.linspace(-35, 35, 1000)\n",
    "λ = 460.861e-9  # 461 nm\n",
    "k = 2 * np.pi / λ\n",
    "Γ = 2 * np.pi * 30.5e6\n",
    "s0 = 0.1\n",
    "Δ = -Γ  # laser detuning (red)\n",
    "hbar = ħ\n",
    "\n",
    "F_right = 0.5 * hbar * k * Γ * s0 * 1 / (1 + s0 + 4 * ((Δ - k * v) ** 2 / Γ ** 2))\n",
    "F_left = -0.5 * hbar * k * Γ * s0 * 1 / (1 + s0 + 4 * ((Δ + k * v) ** 2 / Γ ** 2))\n",
    "F = F_right + F_left\n",
    "\n",
    "fig, ax = plt.subplots(1,1, figsize=(6,4), dpi = 120)\n",
    "ax.plot(v, F_right, 'b:', label='F_right')\n",
    "ax.plot(v, F_left, 'g--', label='F_left')\n",
    "ax.plot(v, F, 'r-', label='F_resultant')\n",
    "\n",
    "ax.set_xlabel('Velocity (v)')\n",
    "ax.set_ylabel(r'Scattering force (F$_{\\rm scatt}$)')\n",
    "ax.set_title(r'$\\Delta = -\\Gamma$')\n",
    "ax.legend()"
   ]
  },
  {
   "cell_type": "code",
   "execution_count": 42,
   "id": "e9e13573-45ed-470c-8d48-93d0c8f59e76",
   "metadata": {},
   "outputs": [
    {
     "name": "stdout",
     "output_type": "stream",
     "text": [
      "0.4564361709752913\n"
     ]
    }
   ],
   "source": [
    "M = 88*u\n",
    "T = 735*1e-6 # temp in Kelvin\n",
    "α = np.sqrt(2*kB*T/M) # most prob speed in a vol of gas\n",
    "v_m = np.sqrt(3/2)*α\n",
    "print(v_m)"
   ]
  },
  {
   "cell_type": "markdown",
   "id": "2f61e761-fb63-43ee-9f65-0c7d959415d7",
   "metadata": {},
   "source": [
    "## Dipole trapping calc of Na atoms "
   ]
  },
  {
   "cell_type": "markdown",
   "id": "92b9e18d-4ed5-4c40-9f2f-66b8fc014517",
   "metadata": {},
   "source": [
    "Example 9.2 from C.J.Foot book"
   ]
  },
  {
   "cell_type": "code",
   "execution_count": 18,
   "id": "1880ba73-a1e6-4af6-b0f9-115229f66a76",
   "metadata": {},
   "outputs": [
    {
     "name": "stdout",
     "output_type": "stream",
     "text": [
      "δ/Γ =  2.274 X 10^7\n",
      "Γ = 2𝜋 X  9.947183943243457 MHz\n",
      "δ = 2𝜋 X  226.16242386840506 THz\n",
      "ω0 = 2𝜋 X 508.9854974533107 THz\n",
      "ω = 2𝜋 X 282.8230735849056 THz\n",
      "δ/ω0 =  0.444\n"
     ]
    }
   ],
   "source": [
    "c = 299792458 # light vel in vacuum\n",
    "λ = 1.060*1e-6 #1.06um\n",
    "λ0 = 589*1e-9 # 589nm\n",
    "t = 16*1e-9 # 16ns\n",
    "Γ = 1/t\n",
    "#Γ = 2*np.pi*9.7946*1e6 #in Hz (https://steck.us/alkalidata/sodiumnumbers.pdf)\n",
    "\n",
    "ω0 = 2*np.pi*c/λ0\n",
    "ω = 2*np.pi*c/λ\n",
    "δ = (2*np.pi) * c * (1/λ0 - 1/λ) #detuning\n",
    "\n",
    "\n",
    "print('δ/Γ = ', round(δ/Γ/1e7,3), 'X 10^7')\n",
    "print('Γ = 2𝜋 X ', Γ/(2*np.pi)/1e6, 'MHz')\n",
    "print('δ = 2𝜋 X ', δ/(2*np.pi)/1e12, 'THz')\n",
    "print('ω0 = 2𝜋 X', ω0/(2*np.pi)/1e12, 'THz')\n",
    "print('ω = 2𝜋 X', ω/(2*np.pi)/1e12, 'THz')\n",
    "print('δ/ω0 = ', round(δ/ω0, 3))"
   ]
  },
  {
   "cell_type": "code",
   "execution_count": 19,
   "id": "be928a22-0f59-47d6-9fd7-19a75dc0b244",
   "metadata": {},
   "outputs": [
    {
     "name": "stdout",
     "output_type": "stream",
     "text": [
      "U_dip =  262.45968770132345 μK\n",
      "R_sc =  1.511295636096151\n",
      "R_sc =  4.8361460355076833e-08  X (Γ/2)\n"
     ]
    }
   ],
   "source": [
    "s = 1e8 # saturation param\n",
    "\n",
    "U_dip = (ħ*Γ/8) * (Γ/δ) * s / kB # in Kelvin temp\n",
    "\n",
    "R_sc = (Γ/8) * (Γ/δ)**2 * s # scattering rate\n",
    "\n",
    "\n",
    "print('U_dip = ', U_dip*1e6, 'μK')\n",
    "print('R_sc = ', R_sc)\n",
    "print('R_sc = ', R_sc/Γ*2, ' X (Γ/2)')"
   ]
  },
  {
   "cell_type": "code",
   "execution_count": 43,
   "id": "3d4655a5-d1db-4a1d-a3f8-8e409d31172f",
   "metadata": {},
   "outputs": [
    {
     "data": {
      "image/png": "[encoded data removed]",
      "text/plain": [
       "<Figure size 640x480 with 1 Axes>"
      ]
     },
     "metadata": {},
     "output_type": "display_data"
    }
   ],
   "source": [
    "import numpy as np\n",
    "import matplotlib.pyplot as plt\n",
    "from scipy.integrate import odeint\n",
    "\n",
    "# Function that returns dz/dt\n",
    "def model(z, t, m, c, k):\n",
    "    x, v = z\n",
    "    dxdt = v\n",
    "    dvdt = -(c/m) * v - (k/m) * x\n",
    "    return [dxdt, dvdt]\n",
    "\n",
    "# System parameters\n",
    "m = 1.0  # mass\n",
    "c = 0.5  # damping coefficient\n",
    "k = 10.0  # spring constant\n",
    "\n",
    "# Initial conditions\n",
    "x0 = 1.0  # initial displacement\n",
    "v0 = 0.0  # initial velocity\n",
    "z0 = [x0, v0]\n",
    "\n",
    "# Time points\n",
    "t = np.linspace(0, 10, 1000)\n",
    "\n",
    "# Solve ODE\n",
    "z = odeint(model, z0, t, args=(m, c, k))\n",
    "\n",
    "# Extract displacement and velocity\n",
    "x, v = z.T\n",
    "\n",
    "# Plot results\n",
    "plt.plot(t, x, label='Displacement')\n",
    "plt.plot(t, v, label='Velocity')\n",
    "plt.xlabel('Time')\n",
    "plt.ylabel('Amplitude')\n",
    "plt.legend()\n",
    "plt.show()\n",
    "\n"
   ]
  },
  {
   "cell_type": "markdown",
   "id": "0cb4ef7b-3c3a-439a-8a8f-29f135f31a5d",
   "metadata": {},
   "source": [
    "## GMOT location calc"
   ]
  },
  {
   "cell_type": "code",
   "execution_count": 3,
   "id": "7a5c3b4a-13c5-499a-bed9-aba1bf3937ff",
   "metadata": {},
   "outputs": [
    {
     "name": "stdout",
     "output_type": "stream",
     "text": [
      "BMOT capture volume height =  13.385 mm\n",
      "RMOT capture volume height =  4.973 mm\n",
      "BMOT height =  6.692 mm\n",
      "RMOT height =  2.487 mm\n",
      "1st-order Bragg angle (θ_b) =  36.76 degree\n",
      "1st-order Bragg angle (θ_r) =  63.56 degree\n"
     ]
    }
   ],
   "source": [
    "λ_b = 460.8618 * 1e-9 \n",
    "λ_r = 689.449 * 1e-9\n",
    "\n",
    "m = 1\n",
    "d = 770 * 1e-9  # grating period\n",
    "dia = 20*1e-3 # collimated MOT beam diameter 25.4 mm\n",
    "ρ = dia/2 # 1/e^2 beam radius\n",
    "\n",
    "θ_b = np.arcsin(m*λ_b/d) * (180/np.pi)  # in degree\n",
    "θ_r = np.arcsin(m*λ_r/d) * (180/np.pi)  # in degree\n",
    "\n",
    "h_b = ρ * (1 / np.tan(θ_b*(np.pi/180)))  #BMOT capture volume height\n",
    "h_r = ρ * (1 / np.tan(θ_r*(np.pi/180)))  #RMOT capture volume height\n",
    "\n",
    "print('BMOT capture volume height = ', round((h_b*1000),3), 'mm')\n",
    "print('RMOT capture volume height = ', round((h_r*1000),3), 'mm')\n",
    "\n",
    "print('BMOT height = ', round((h_b*1000/2),3), 'mm')\n",
    "print('RMOT height = ', round((h_r*1000/2),3), 'mm')\n",
    "\n",
    "print('1st-order Bragg angle (θ_b) = ', round(θ_b, 2), 'degree')\n",
    "print('1st-order Bragg angle (θ_r) = ', round(θ_r, 2), 'degree')"
   ]
  },
  {
   "cell_type": "code",
   "execution_count": 76,
   "id": "4b2463b7-c3e5-42b2-bf52-f72a370e77b7",
   "metadata": {},
   "outputs": [
    {
     "data": {
      "text/plain": [
       "63.55835084501994"
      ]
     },
     "execution_count": 76,
     "metadata": {},
     "output_type": "execute_result"
    }
   ],
   "source": [
    "θ_r"
   ]
  },
  {
   "cell_type": "code",
   "execution_count": 30,
   "id": "6aa25158-3e49-48ed-9b3e-1f001bb258ac",
   "metadata": {},
   "outputs": [],
   "source": [
    "## Calculate radiation pressure for blue and red light"
   ]
  },
  {
   "cell_type": "code",
   "execution_count": 60,
   "id": "92a7da68-5d33-4230-93a7-396ddd13cbd3",
   "metadata": {},
   "outputs": [
    {
     "name": "stdout",
     "output_type": "stream",
     "text": [
      "44.991348337162016\n"
     ]
    }
   ],
   "source": [
    "θ = np.arcsin(0.707) * (180/np.pi)\n",
    "print(θ)"
   ]
  },
  {
   "cell_type": "code",
   "execution_count": 52,
   "id": "0731cc1e-69e9-4495-9163-e96f85d75a16",
   "metadata": {},
   "outputs": [
    {
     "name": "stdout",
     "output_type": "stream",
     "text": [
      "3.747405725\n"
     ]
    }
   ],
   "source": [
    "f = 20*1e6\n",
    "λ = c/f\n",
    "print(λ/4)"
   ]
  },
  {
   "cell_type": "code",
   "execution_count": 62,
   "id": "392bd58d-9916-4a65-8eef-6f2bdd364d09",
   "metadata": {},
   "outputs": [
    {
     "data": {
      "text/plain": [
       "0.707"
      ]
     },
     "execution_count": 62,
     "metadata": {},
     "output_type": "execute_result"
    }
   ],
   "source": [
    "np.sin(θ*(np.pi/180))"
   ]
  },
  {
   "cell_type": "code",
   "execution_count": 63,
   "id": "648a0259-3fa9-4dae-a616-992c7fbaae93",
   "metadata": {},
   "outputs": [
    {
     "data": {
      "text/plain": [
       "0.785247163395153"
      ]
     },
     "execution_count": 63,
     "metadata": {},
     "output_type": "execute_result"
    }
   ],
   "source": [
    "np.arcsin(0.707)"
   ]
  },
  {
   "cell_type": "code",
   "execution_count": 64,
   "id": "4f7bc36a-18ae-420d-8cc8-e8519662ba9f",
   "metadata": {},
   "outputs": [
    {
     "data": {
      "text/plain": [
       "0.706825181105366"
      ]
     },
     "execution_count": 64,
     "metadata": {},
     "output_type": "execute_result"
    }
   ],
   "source": [
    "np.sin(0.785)"
   ]
  },
  {
   "cell_type": "code",
   "execution_count": 76,
   "id": "7b18ad01-2947-4a80-a9ba-7da1489f180d",
   "metadata": {},
   "outputs": [
    {
     "name": "stdout",
     "output_type": "stream",
     "text": [
      "Minimum value found at x = -0.9999999997962964\n",
      "Function value at minimum: 0.0\n"
     ]
    }
   ],
   "source": [
    "import numpy as np\n",
    "\n",
    "# Define the quadratic function to be optimized\n",
    "def quadratic_function(x):\n",
    "    return x**2 + 2*x + 1\n",
    "\n",
    "# Define the gradient of the quadratic function\n",
    "def gradient(x):\n",
    "    return 2*x + 2\n",
    "\n",
    "# Gradient Descent Optimization\n",
    "def gradient_descent(learning_rate, iterations):\n",
    "    x = 0  # Initial guess\n",
    "    for _ in range(iterations):\n",
    "        x = x - learning_rate * gradient(x)\n",
    "    \n",
    "    return x\n",
    "\n",
    "# Set hyperparameters\n",
    "learning_rate = 0.1\n",
    "iterations = 100\n",
    "\n",
    "# Find the minimum using gradient descent\n",
    "minimizer = gradient_descent(learning_rate, iterations)\n",
    "\n",
    "# Print the result\n",
    "print(f\"Minimum value found at x = {minimizer}\")\n",
    "print(f\"Function value at minimum: {quadratic_function(minimizer)}\")\n"
   ]
  },
  {
   "cell_type": "code",
   "execution_count": 80,
   "id": "4ad7d588-ff56-4c05-bce0-d52cd013dd42",
   "metadata": {},
   "outputs": [
    {
     "name": "stdout",
     "output_type": "stream",
     "text": [
      "435.1124171107772\n"
     ]
    }
   ],
   "source": [
    "lamb = 689.000006*1e-9\n",
    "nu = c/lamb\n",
    "print(nu/1e12)"
   ]
  },
  {
   "cell_type": "markdown",
   "id": "e02c20e4-7bbd-492b-bc3b-dbed6bd98a22",
   "metadata": {},
   "source": [
    "## Frequency uncertainty $\\delta f = \\dfrac{\\delta t}{T}$"
   ]
  },
  {
   "cell_type": "markdown",
   "id": "b858c853-8f89-4a0d-a8b2-4fea49d44701",
   "metadata": {},
   "source": [
    "T : meaurement period; δt : time uncertainty"
   ]
  },
  {
   "cell_type": "code",
   "execution_count": 85,
   "id": "a98232ab-1a65-418f-a675-d02beca7c445",
   "metadata": {},
   "outputs": [
    {
     "name": "stdout",
     "output_type": "stream",
     "text": [
      "δf =  2.7777777777777776e-07\n"
     ]
    }
   ],
   "source": [
    "δt = 1 # 1ms\n",
    "T = 60*60*1000 # [ms] measurement time is 1h \n",
    "δf = δt/T\n",
    "print('δf = ', δf)"
   ]
  },
  {
   "cell_type": "code",
   "execution_count": 88,
   "id": "9600826e-81c9-41f6-98b7-70835d06c33d",
   "metadata": {},
   "outputs": [
    {
     "name": "stdout",
     "output_type": "stream",
     "text": [
      "δf =  2.3148148148148146e-13\n"
     ]
    }
   ],
   "source": [
    "δt = 20 # 1ms\n",
    "T = 24*60*60*1e9 # [ms] measurement time is 1h \n",
    "δf = δt/T\n",
    "print('δf = ', δf)"
   ]
  },
  {
   "cell_type": "code",
   "execution_count": 45,
   "id": "9d674326-a879-4d2e-ab03-3df34c3c5590",
   "metadata": {},
   "outputs": [
    {
     "data": {
      "text/plain": [
       "0.006782608695652174"
      ]
     },
     "execution_count": 45,
     "metadata": {},
     "output_type": "execute_result"
    }
   ],
   "source": [
    "0.39/57.50"
   ]
  },
  {
   "cell_type": "code",
   "execution_count": null,
   "id": "5543d36f-5ef6-4428-90c1-b95cdd3b1d4e",
   "metadata": {},
   "outputs": [],
   "source": [
    "just after pbs on p-path:3.217-1.650 mW\n",
    "after qhp set to minimize on p-path: 0.83-4.4 angle: 332\\\n",
    "after qwp and hwp both minimized om p-path: 1-4 mW\n",
    "now qwp fixed. 20-31, 23-38, \n",
    "angle = 8; variation: 8.9-15 mW"
   ]
  },
  {
   "cell_type": "code",
   "execution_count": 13,
   "id": "791fc6ee-f666-4c19-9248-f9a62e95a1c7",
   "metadata": {},
   "outputs": [
    {
     "name": "stdout",
     "output_type": "stream",
     "text": [
      "40.74366543152521\n"
     ]
    }
   ],
   "source": [
    "P = 64 #mW\n",
    "d = 20*1e-1 # cm\n",
    "area = np.pi*(d/2)**2\n",
    "I = 2*P/(area)\n",
    "\n",
    "print(I)"
   ]
  },
  {
   "cell_type": "code",
   "execution_count": 20,
   "id": "f41c3aec-760d-47e4-8d19-c0f4f7d3596a",
   "metadata": {},
   "outputs": [
    {
     "name": "stdout",
     "output_type": "stream",
     "text": [
      "62.83185307179586\n"
     ]
    }
   ],
   "source": [
    "I_sat = 40 # mW/cm^2\n",
    "I = 0.5*I_sat\n",
    "\n",
    "P = 1*I*area\n",
    "\n",
    "print(P)"
   ]
  },
  {
   "cell_type": "code",
   "execution_count": 22,
   "id": "f415a6c0-fc5a-438a-bc27-eb7dbb1ad7eb",
   "metadata": {},
   "outputs": [
    {
     "name": "stdout",
     "output_type": "stream",
     "text": [
      "18.88888888888889\n"
     ]
    }
   ],
   "source": [
    "d = 1.7\n",
    "NA = 0.045\n",
    "f = d/(2*NA)\n",
    "print(f)"
   ]
  },
  {
   "cell_type": "code",
   "execution_count": null,
   "id": "999c172a-338a-45de-bb44-87999d2557ac",
   "metadata": {},
   "outputs": [],
   "source": []
  }
 ],
 "metadata": {
  "kernelspec": {
   "display_name": "Python 3 (ipykernel)",
   "language": "python",
   "name": "python3"
  },
  "language_info": {
   "codemirror_mode": {
    "name": "ipython",
    "version": 3
   },
   "file_extension": ".py",
   "mimetype": "text/x-python",
   "name": "python",
   "nbconvert_exporter": "python",
   "pygments_lexer": "ipython3",
   "version": "3.11.7"
  }
 },
 "nbformat": 4,
 "nbformat_minor": 5
}
