{
 "cells": [
  {
   "cell_type": "code",
   "execution_count": 1,
   "id": "dc48b9c0-1031-40cd-964d-cc43e69a7436",
   "metadata": {},
   "outputs": [],
   "source": [
    "import os\n",
    "import matplotlib.pyplot as plt\n",
    "import matplotlib\n",
    "#%matplotlib qt\n",
    "import numpy as np\n",
    "from matplotlib import rcParams\n",
    "from scipy.optimize import curve_fit\n",
    "import matplotlib.colors as colors\n",
    "from IPython.display import display, Math\n",
    "\n",
    "#matplotlib.use('Agg')\n",
    "\n",
    "rcParams[\"axes.labelsize\"] = '19'\n",
    "rcParams[\"axes.titlesize\"] = '15'\n",
    "rcParams[\"axes.linewidth\"] = '0.5'\n",
    "rcParams[\"font.size\"] = '7'\n",
    "rcParams[\"xtick.labelsize\"] = '15'\n",
    "rcParams[\"ytick.labelsize\"] = '15'\n",
    "rcParams[\"xtick.major.width\"] = '0.5'\n",
    "rcParams[\"ytick.major.width\"] = '0.5'\n",
    "rcParams[\"xtick.major.size\"] = '3'\n",
    "rcParams[\"ytick.major.size\"] = '3'\n",
    "rcParams[\"xtick.direction\"] = 'in'\n",
    "rcParams[\"ytick.direction\"] = 'in'\n",
    "rcParams[\"xtick.major.pad\"] = '5'\n",
    "rcParams[\"ytick.major.pad\"] = '5'\n",
    "rcParams[\"axes.labelpad\"] = '10'\n",
    "rcParams[\"axes.grid\"] = 'True'\n",
    "rcParams[\"xtick.top\"] = 'True'\n",
    "rcParams[\"ytick.right\"] = 'True'\n",
    "\n",
    "         \n",
    "rcParams['font.sans-serif'] = 'Arial'         \n",
    "rcParams['mathtext.fontset'] = 'custom'\n",
    "rcParams['mathtext.rm'] = 'serif'\n",
    "\n",
    "rcParams['pdf.fonttype'] = '42'"
   ]
  },
  {
   "cell_type": "code",
   "execution_count": 2,
   "id": "cbcfa1d7-c607-4ae3-a591-bb9b32aab337",
   "metadata": {},
   "outputs": [],
   "source": [
    "h = 6.62607015e-34 # Planck's constant codata\n",
    "c = 299792458 # speed of light in vacuum\n",
    "ϵ0 = 8.8541878128e-12 # vacuum permittivity in C^2⋅N^−1⋅m^−2 codata\n",
    "μ0 = 4*np.pi*1e-7 # vacuum permeability\n",
    "ħ = h/(2*np.pi) # reduced Planck's const\n",
    "kB = 1.380649e-23 # Boltzman's const codata value codata\n",
    "u = 1.66053906660e-27 # atomic mass unit in kg codata\n",
    "e = 1.602176634e-19 # elementary charge in Coulomb (NIST codata)\n",
    "N_A = 6.02214076e23 # Avogadro's number codata\n",
    "m_e = 9.1093837015e-31 # codata value (https://physics.nist.gov/cgi-bin/cuu/Value?me)\n",
    "m_p = 1.67262192369e-27 # codata value of proton mass"
   ]
  },
  {
   "cell_type": "markdown",
   "id": "f9e4dea7-a279-4c49-a85e-1cd534c58b26",
   "metadata": {},
   "source": [
    "# Gaussian beam optics calc"
   ]
  },
  {
   "cell_type": "code",
   "execution_count": 3,
   "id": "13383578-ef8e-4523-95aa-48384a2d7f68",
   "metadata": {},
   "outputs": [],
   "source": [
    "# Calculate Rayleigh range\n",
    "def Rayleigh_range(w0, λ):\n",
    "    z_R = np.pi * w0**2 / λ\n",
    "    return z_R\n",
    "\n",
    "# beam divergence\n",
    "def beam_divergence(λ, w0):\n",
    "    θ_0 = λ / (np.pi * w0)\n",
    "    return θ_0\n",
    "\n",
    "# Focus distance for Gaussian beam\n",
    "def focus_distance(f,z0_R):\n",
    "    d = f / (1 + f**2 / z0_R**2)\n",
    "    return d \n",
    "\n",
    "# Ideal minimum spot size\n",
    "def w_02(λ, f, w01):\n",
    "    w02 = λ * f / (np.pi * w01)\n",
    "    return w02"
   ]
  },
  {
   "cell_type": "code",
   "execution_count": 4,
   "id": "771f2472-fb39-4892-a510-f99677ba9ff8",
   "metadata": {},
   "outputs": [
    {
     "name": "stdout",
     "output_type": "stream",
     "text": [
      "Rayleigh_range =  5.436 m\n",
      "Focus distance =  0.19972964347673267 m\n",
      "w_02 =  3.2854784424758785e-05 m\n",
      "beam divergence =  2.8671208162249594e-06 deg\n",
      "beam divergence =  0.0001642739221237939 rad\n"
     ]
    }
   ],
   "source": [
    "# 461nm beam dim. 2.469mmX1.104mm (measured w/ TL beam profiler), effective dia 1.786mm\n",
    "\n",
    "d = 1.786 * 1e-3 # beam dia in m\n",
    "w_01 = d / 2\n",
    "λ = 460.861 * 1e-9 # wavelength in m\n",
    "f = 200 * 1e-3 # in m\n",
    "\n",
    "z_R = Rayleigh_range(w_01,λ)\n",
    "\n",
    "print('Rayleigh_range = ', round(Rayleigh_range(w_01,λ),3), 'm')\n",
    "print('Focus distance = ', focus_distance(f, z_R), 'm')\n",
    "print('w_02 = ', w_02(λ, f, w_01), 'm')\n",
    "print('beam divergence = ', beam_divergence(λ, w_01*(180/np.pi)), 'deg')\n",
    "print('beam divergence = ', beam_divergence(λ, w_01), 'rad')"
   ]
  },
  {
   "cell_type": "code",
   "execution_count": 5,
   "id": "9e38a336-0c87-4c6d-972b-f76ff4f9dcfe",
   "metadata": {},
   "outputs": [
    {
     "name": "stdout",
     "output_type": "stream",
     "text": [
      "f =  12.174786929923275 mm\n",
      "2e-06\n"
     ]
    }
   ],
   "source": [
    "w01 = d/2\n",
    "w02 = 2 *1e-6\n",
    "\n",
    "f = w01 * np.pi * w02 / λ\n",
    "\n",
    "print('f = ', f*1000, 'mm')\n",
    "print(w02)"
   ]
  },
  {
   "cell_type": "markdown",
   "id": "c54c2d7e-a782-49fa-a106-01965889ed02",
   "metadata": {},
   "source": [
    "## Focal length of a fiber coupler calc from NA"
   ]
  },
  {
   "cell_type": "markdown",
   "id": "f860ba96-360b-4518-ade2-dde5bb1edf3f",
   "metadata": {},
   "source": [
    "## Numerical aperture (NA) $ = \\dfrac{D}{2f}$"
   ]
  },
  {
   "cell_type": "code",
   "execution_count": 6,
   "id": "294219b4-27bd-4bec-ba8f-82657f4bb20e",
   "metadata": {},
   "outputs": [
    {
     "name": "stdout",
     "output_type": "stream",
     "text": [
      "Focal length of the coupler = 9.922 mm\n"
     ]
    }
   ],
   "source": [
    "# S&K fiber for 460nm to routing the light from LRI to gBLOC table\n",
    "# Fiber part no: PMC-E-460Si-4.0-NA009-3-APC.EC-1000-P\n",
    "# 461nm beam dim. 2.469mmX1.104mm, effective dia 1.786mm (1/e^2 dia)\n",
    "\n",
    "NA = 0.09 # NA of the fiber\n",
    "D = 1.786 # effective dia in mm\n",
    "\n",
    "f = D / (2 * NA) # Formula to calculate focal length of the coupler\n",
    "\n",
    "print('Focal length of the coupler =', round(f,3), 'mm')\n"
   ]
  },
  {
   "cell_type": "markdown",
   "id": "d58a9b0d-4bf0-4813-82ed-bdf40fbffd29",
   "metadata": {},
   "source": [
    "## Required beam dia calc for a given coupler and fiber"
   ]
  },
  {
   "cell_type": "code",
   "execution_count": 7,
   "id": "8f4a04d9-e1d5-434d-a6e2-ab580263e841",
   "metadata": {},
   "outputs": [
    {
     "name": "stdout",
     "output_type": "stream",
     "text": [
      "Beam dia (1/e^2) = ['2.700', '1.800', '1.116'] mm\n"
     ]
    }
   ],
   "source": [
    "# S&K fiber for 460nm to routing the light from LRI to gBLOC table\n",
    "# Fiber part no: PMC-E-460Si-4.0-NA009-3-APC.EC-1000-P\n",
    "# 461nm beam dim. 2.469mmX1.104mm, effective dia 1.786mm\n",
    "# Fiber coupler: 60FC-SF-4-M15-24/60FC-SF-4-M6.2-33\n",
    "\n",
    "NA = 0.09 # NA of the fiber\n",
    "f = [15, 10, 6.2] # focal length of the collimating lens of 60FC-SF-4-M15-24\n",
    "Beam_dia = []\n",
    "for i in f:\n",
    "    D = 2 * i * NA\n",
    "    Beam_dia.append(D)\n",
    "   \n",
    "# Print Beam_dia up to three decimal points\n",
    "Beam_dia_rounded = [f'{dia:.3f}' for dia in Beam_dia]\n",
    "\n",
    "print('Beam dia (1/e^2) =', Beam_dia_rounded, 'mm')"
   ]
  },
  {
   "cell_type": "markdown",
   "id": "96081d80-d55b-4f2f-99e4-f35dc196b078",
   "metadata": {},
   "source": [
    "## Power calc of the MOT beam"
   ]
  },
  {
   "cell_type": "code",
   "execution_count": 15,
   "id": "ea94d24d-df52-4c89-a5fe-1e0c6893a40b",
   "metadata": {},
   "outputs": [
    {
     "name": "stdout",
     "output_type": "stream",
     "text": [
      "I =  20.372 mW/cm^2\n",
      "I/I_sat =  0.5002168814949322\n"
     ]
    }
   ],
   "source": [
    "I_sat = 40.726 # mW/cm^2\n",
    "P = 64  #mW\n",
    "d = 20*1e-1 # cm dia of the MOT beam\n",
    "area = np.pi*(d/2)**2\n",
    "I = 1*P/(area)\n",
    "\n",
    "print('I = ', round(I,3), 'mW/cm^2')\n",
    "print('I/I_sat = ', I/I_sat)"
   ]
  },
  {
   "cell_type": "code",
   "execution_count": 16,
   "id": "6df826dc-107f-4223-969f-53b81346d85b",
   "metadata": {},
   "outputs": [
    {
     "name": "stdout",
     "output_type": "stream",
     "text": [
      "P =  127.945 mW\n"
     ]
    }
   ],
   "source": [
    "I_sat = 40.726 # mW/cm^2\n",
    "I = 0.5*2*I_sat\n",
    "\n",
    "P = (1/1)*I*area\n",
    "\n",
    "print('P = ', round(P,3), 'mW')"
   ]
  },
  {
   "cell_type": "markdown",
   "id": "ef58ba07-947e-4e62-8536-3d4726ffef7d",
   "metadata": {},
   "source": [
    "## 2D MOT beam power"
   ]
  },
  {
   "cell_type": "code",
   "execution_count": 31,
   "id": "2c60b534-5687-4470-a810-a230f33e7fdc",
   "metadata": {},
   "outputs": [
    {
     "name": "stdout",
     "output_type": "stream",
     "text": [
      "I_total =  11459.156 mW/cm^2\n",
      "I_total/I_sat =  281.3719958408993\n"
     ]
    }
   ],
   "source": [
    "P = 90  #mW\n",
    "d = 2*1e-1 # cm dia of the 2D-MOT beam\n",
    "area = np.pi*(d/2)**2\n",
    "I = 1*P/(area)\n",
    "\n",
    "I_total = 4*I # (4 beams combined)\n",
    "\n",
    "print('I_total = ', round(I_total,3), 'mW/cm^2')\n",
    "print('I_total/I_sat = ', I_total/I_sat)"
   ]
  },
  {
   "cell_type": "code",
   "execution_count": 10,
   "id": "65f48a9a-a860-4d09-808a-16c19111aef0",
   "metadata": {},
   "outputs": [
    {
     "data": {
      "text/plain": [
       "array([10,  4,  6,  8,  2,  0])"
      ]
     },
     "execution_count": 10,
     "metadata": {},
     "output_type": "execute_result"
    }
   ],
   "source": [
    "np.array([10,4,6,8,2,0])"
   ]
  },
  {
   "cell_type": "code",
   "execution_count": 11,
   "id": "a81272d4-b9ed-44b6-a732-5eee26a2e406",
   "metadata": {},
   "outputs": [
    {
     "data": {
      "text/plain": [
       "array([15. ,  6.2])"
      ]
     },
     "execution_count": 11,
     "metadata": {},
     "output_type": "execute_result"
    }
   ],
   "source": [
    "np.array([15, 6.2])"
   ]
  },
  {
   "cell_type": "code",
   "execution_count": 12,
   "id": "fd84542b-a341-4fb1-89e1-d3774cdc3f19",
   "metadata": {},
   "outputs": [
    {
     "name": "stdout",
     "output_type": "stream",
     "text": [
      "0.7976738612950779\n"
     ]
    }
   ],
   "source": [
    "ω_MFD = 2 #um\n",
    "ω_x = 0.758 #um\n",
    "ω_y = 1.5 #um\n",
    "\n",
    "overlap = (2/ω_MFD) * np.sqrt(2/(np.pi*ω_x*ω_y)) * np.sqrt(np.pi/(1/ω_MFD**2 + 1/ω_x**2)) * np.sqrt(np.pi/(1/ω_MFD**2 + 1/ω_y**2))\n",
    "\n",
    "print(overlap*(1/np.sqrt(2*np.pi)))\n"
   ]
  },
  {
   "cell_type": "code",
   "execution_count": 13,
   "id": "54ab748f-adde-44a3-bd70-44644f2c3b22",
   "metadata": {},
   "outputs": [
    {
     "name": "stdout",
     "output_type": "stream",
     "text": [
      "1.0\n"
     ]
    }
   ],
   "source": [
    "ω_x = 2\n",
    "overlap1 = (2/(ω_MFD * ω_x)) * 1/(1/ω_MFD**2 + 1/ω_x**2)\n",
    "print(overlap1)"
   ]
  },
  {
   "cell_type": "code",
   "execution_count": 3,
   "id": "6a71d9b6-201c-4e18-9f8b-c0ae25427714",
   "metadata": {},
   "outputs": [
    {
     "data": {
      "text/plain": [
       "<matplotlib.legend.Legend at 0x7fb10912d5b0>"
      ]
     },
     "execution_count": 3,
     "metadata": {},
     "output_type": "execute_result"
    },
    {
     "data": {
      "image/png": "[encoded data removed]",
      "text/plain": [
       "<Figure size 720x480 with 1 Axes>"
      ]
     },
     "metadata": {},
     "output_type": "display_data"
    }
   ],
   "source": [
    "x = np.linspace(-10,10,1000)\n",
    "f = x**1*np.exp(-x**2)\n",
    "\n",
    "fig, ax = plt.subplots(1, 1, figsize=(6, 4), dpi=120)\n",
    "ax.plot(x, f, '-', label='Func')\n",
    "ax.legend()"
   ]
  },
  {
   "cell_type": "code",
   "execution_count": 63,
   "id": "8eb0d09e-084f-4d1e-a90e-c82184a33301",
   "metadata": {},
   "outputs": [
    {
     "name": "stdout",
     "output_type": "stream",
     "text": [
      "(1.256317136421768, 4.890686530434134e-09)\n"
     ]
    }
   ],
   "source": [
    "import numpy as np\n",
    "from scipy.integrate import quad\n",
    "\n",
    "def integrand(x, b):\n",
    "    f = np.exp(-b * x**2)\n",
    "    return f\n",
    "\n",
    "#def gaussian_integral(b):\n",
    "#    result, error = quad(integrand, -np.inf, np.inf, args=(b,))\n",
    "#    return result\n",
    "\n",
    "def result(b):\n",
    "    I = quad(integrand, -np.inf, np.inf, args=(b))\n",
    "    return I\n",
    "\n",
    "# Example usage\n",
    "ω_x = 0.758*1e-0\n",
    "ω_y = 1.5*1e-6\n",
    "ω_MFD = 2*1e-0\n",
    "a_x = 1/ω_MFD**2 + 1/ω_x**2  # Example value for a > 0\n",
    "a_y = 1/ω_MFD**2 + 1/ω_y**2\n",
    "a = 0\n",
    "b = a_x\n",
    "I = result(b)\n",
    "#expected_result = np.sqrt(np.pi / b)\n",
    "\n",
    "#print(f\"Numerical integration result: {I}\")\n",
    "#print(f\"Expected analytical result: {expected_result}\")\n",
    "print(I)"
   ]
  },
  {
   "cell_type": "code",
   "execution_count": 64,
   "id": "c5840cc7-ad6f-4d26-b477-f967a79208e2",
   "metadata": {},
   "outputs": [
    {
     "name": "stdout",
     "output_type": "stream",
     "text": [
      "Numerical integration result: 1.2533141373155017\n",
      "Expected analytical result: 1.2533141373155001\n"
     ]
    }
   ],
   "source": [
    "import numpy as np\n",
    "from scipy.integrate import quad\n",
    "\n",
    "def integrand(x, a):\n",
    "    return np.exp(-a * x**2)\n",
    "\n",
    "def gaussian_integral(a):\n",
    "    result, error = quad(integrand, -np.inf, np.inf, args=(a,))\n",
    "    return result\n",
    "\n",
    "# Example usage\n",
    "a = 2  # Example value for a > 0\n",
    "result = gaussian_integral(a)\n",
    "expected_result = np.sqrt(np.pi / a)\n",
    "\n",
    "print(f\"Numerical integration result: {result}\")\n",
    "print(f\"Expected analytical result: {expected_result}\")\n"
   ]
  },
  {
   "cell_type": "code",
   "execution_count": 65,
   "id": "cf8476b3-f920-4890-a180-7efc68e606f6",
   "metadata": {},
   "outputs": [
    {
     "data": {
      "text/plain": [
       "0.793895137998851"
      ]
     },
     "execution_count": 65,
     "metadata": {},
     "output_type": "execute_result"
    }
   ],
   "source": [
    "1/np.sqrt(2*np.pi)*1.99"
   ]
  },
  {
   "cell_type": "code",
   "execution_count": 66,
   "id": "060ffd15-dc0f-4fac-b9d2-9fa6b3b3b339",
   "metadata": {},
   "outputs": [
    {
     "name": "stdout",
     "output_type": "stream",
     "text": [
      "43.90865308330704\n"
     ]
    }
   ],
   "source": [
    "t = 4.84*1e-9\n",
    "λ = 460.861*1e-9 # 461 nm\n",
    "Is1 = np.pi*h*c/(3*λ**3*t)\n",
    "print(Is1*0.1)"
   ]
  },
  {
   "cell_type": "code",
   "execution_count": 47,
   "id": "32191c2a-384b-47e2-b23c-6d2925b917e4",
   "metadata": {},
   "outputs": [
    {
     "data": {
      "text/plain": [
       "0.010896024932136662"
      ]
     },
     "execution_count": 47,
     "metadata": {},
     "output_type": "execute_result"
    }
   ],
   "source": [
    "e = 2.73\n",
    "1/e**(2*1.5**2)"
   ]
  },
  {
   "cell_type": "code",
   "execution_count": 48,
   "id": "f5aa1ff7-1695-4e56-8065-0e6d4024be62",
   "metadata": {},
   "outputs": [
    {
     "data": {
      "text/plain": [
       "4.5"
      ]
     },
     "execution_count": 48,
     "metadata": {},
     "output_type": "execute_result"
    }
   ],
   "source": [
    "2*1.5**2"
   ]
  },
  {
   "cell_type": "code",
   "execution_count": 49,
   "id": "2b31a1da-0fdf-4f92-ae7f-864bd4d5b594",
   "metadata": {},
   "outputs": [
    {
     "data": {
      "text/plain": [
       "0.9891039750678633"
      ]
     },
     "execution_count": 49,
     "metadata": {},
     "output_type": "execute_result"
    }
   ],
   "source": [
    "1 - 1 /(e**4.5)"
   ]
  },
  {
   "cell_type": "code",
   "execution_count": 50,
   "id": "e448e96a-6523-4be1-98ab-f26bfe8a88bf",
   "metadata": {},
   "outputs": [
    {
     "data": {
      "text/plain": [
       "0.010896024932136662"
      ]
     },
     "execution_count": 50,
     "metadata": {},
     "output_type": "execute_result"
    }
   ],
   "source": [
    "1 /(e**4.5)"
   ]
  },
  {
   "cell_type": "code",
   "execution_count": 51,
   "id": "7c72b7a6-3296-48d8-8d52-aaa96b1b6ee7",
   "metadata": {},
   "outputs": [
    {
     "data": {
      "text/plain": [
       "0.13417595835178253"
      ]
     },
     "execution_count": 51,
     "metadata": {},
     "output_type": "execute_result"
    }
   ],
   "source": [
    "1/e**2"
   ]
  },
  {
   "cell_type": "code",
   "execution_count": null,
   "id": "6aab3a8d-3d36-4a73-b38e-b1616f1f4c51",
   "metadata": {},
   "outputs": [],
   "source": []
  }
 ],
 "metadata": {
  "kernelspec": {
   "display_name": "Python 3 (ipykernel)",
   "language": "python",
   "name": "python3"
  },
  "language_info": {
   "codemirror_mode": {
    "name": "ipython",
    "version": 3
   },
   "file_extension": ".py",
   "mimetype": "text/x-python",
   "name": "python",
   "nbconvert_exporter": "python",
   "pygments_lexer": "ipython3",
   "version": "3.11.7"
  }
 },
 "nbformat": 4,
 "nbformat_minor": 5
}
